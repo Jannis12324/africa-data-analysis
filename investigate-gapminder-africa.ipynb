{
 "cells": [
  {
   "cell_type": "markdown",
   "metadata": {},
   "source": [
    "# Project: Investigate the Gapminder Africa Dataset\n",
    "\n",
    "## Table of Contents\n",
    "<ul>\n",
    "<li><a href=\"#intro\">Introduction</a></li>\n",
    "<li><a href=\"#wrangling\">Data Wrangling</a></li>\n",
    "<li><a href=\"#eda\">Exploratory Data Analysis</a></li>\n",
    "<li><a href=\"#conclusions\">Conclusions</a></li>\n",
    "</ul>"
   ]
  },
  {
   "cell_type": "markdown",
   "metadata": {},
   "source": [
    "<a id='intro'></a>\n",
    "## Introduction\n",
    "This analysis will look into three datasets of the gapminder foundation (Gapminder.org).\n",
    "Although many countries are represented in the dataset, I will focus on countries in Africa. I chose this focus as I do not know very much about Africa and would like to get to know it at least by the numbers.\n",
    "\n",
    "The datasets are the following:\n",
    " -  Income per Person (GDP per Capita)\n",
    " -  Children per woman\n",
    " -  Mortality rate of newborns\n",
    " -  Countries in Africa (For data cleaning purposes only)\n",
    " \n",
    "All datasets have data for each country and each year.\n",
    "The analysis will look at the development of each dataset over the years and will graphically compare the developments. \n",
    "\n",
    "Core questions are:\n",
    " - How does the GDP per Capita change for African countries\n",
    "     - By how much percent did each country increase/decrease?\n",
    "     - Which countries had the largest gain and which countries the smallest?\n",
    " - Is there a correlation between the mortality rate of newborns and the GDP?\n",
    "     - How big is the difference between the winners and the losers of GDP growth?\n",
    " - How does the mortality rate affect the children per woman?\n",
    "     - Is there a correclation between the mortality rate and the children per woman?\n",
    "     - How do the three variables GDP, mortality rate and children per woman effect each other?\n",
    "    "
   ]
  },
  {
   "cell_type": "code",
   "execution_count": 144,
   "metadata": {},
   "outputs": [],
   "source": [
    "# Importing all necessary packages\n",
    "import pandas as pd\n",
    "import numpy as np\n",
    "import matplotlib.pyplot as plt\n",
    "import seaborn as sns"
   ]
  },
  {
   "cell_type": "markdown",
   "metadata": {},
   "source": [
    "<a id='wrangling'></a>\n",
    "## Data Wrangling\n",
    "\n",
    "### General Properties\n",
    "First the four datasets are loaded and inspected for their shape and if their countries match"
   ]
  },
  {
   "cell_type": "code",
   "execution_count": 239,
   "metadata": {},
   "outputs": [],
   "source": [
    "# Gross domestic product dataframe\n",
    "gdp = pd.read_csv(\"income_per_person_gdppercapita_ppp_inflation_adjusted.csv\")\n",
    "# Children per woman (cpw) dataframe\n",
    "cpw = pd.read_csv(\"children_per_woman_total_fertility.csv\")\n",
    "# Child mortality rate (cmr) dataframe\n",
    "cmr = pd.read_csv(\"child_mortality_0_5_year_olds_dying_per_1000_born.csv\")\n",
    "# Countries with the according continent (from GitHub)\n",
    "c2c = pd.read_csv(\"continent_to_country.csv\")"
   ]
  },
  {
   "cell_type": "markdown",
   "metadata": {},
   "source": [
    "#### Inspect"
   ]
  },
  {
   "cell_type": "code",
   "execution_count": 240,
   "metadata": {},
   "outputs": [
    {
     "data": {
      "text/plain": [
       "((184, 220), (193, 220), (193, 242))"
      ]
     },
     "execution_count": 240,
     "metadata": {},
     "output_type": "execute_result"
    }
   ],
   "source": [
    "cpw.shape, cmr.shape, gdp.shape"
   ]
  },
  {
   "cell_type": "code",
   "execution_count": 241,
   "metadata": {},
   "outputs": [
    {
     "data": {
      "text/html": [
       "<div>\n",
       "<style scoped>\n",
       "    .dataframe tbody tr th:only-of-type {\n",
       "        vertical-align: middle;\n",
       "    }\n",
       "\n",
       "    .dataframe tbody tr th {\n",
       "        vertical-align: top;\n",
       "    }\n",
       "\n",
       "    .dataframe thead th {\n",
       "        text-align: right;\n",
       "    }\n",
       "</style>\n",
       "<table border=\"1\" class=\"dataframe\">\n",
       "  <thead>\n",
       "    <tr style=\"text-align: right;\">\n",
       "      <th></th>\n",
       "      <th>country</th>\n",
       "      <th>1800</th>\n",
       "      <th>1801</th>\n",
       "      <th>1802</th>\n",
       "      <th>1803</th>\n",
       "      <th>1804</th>\n",
       "      <th>1805</th>\n",
       "      <th>1806</th>\n",
       "      <th>1807</th>\n",
       "      <th>1808</th>\n",
       "      <th>...</th>\n",
       "      <th>2031</th>\n",
       "      <th>2032</th>\n",
       "      <th>2033</th>\n",
       "      <th>2034</th>\n",
       "      <th>2035</th>\n",
       "      <th>2036</th>\n",
       "      <th>2037</th>\n",
       "      <th>2038</th>\n",
       "      <th>2039</th>\n",
       "      <th>2040</th>\n",
       "    </tr>\n",
       "  </thead>\n",
       "  <tbody>\n",
       "    <tr>\n",
       "      <th>0</th>\n",
       "      <td>Afghanistan</td>\n",
       "      <td>603</td>\n",
       "      <td>603</td>\n",
       "      <td>603</td>\n",
       "      <td>603</td>\n",
       "      <td>603</td>\n",
       "      <td>603</td>\n",
       "      <td>603</td>\n",
       "      <td>603</td>\n",
       "      <td>603</td>\n",
       "      <td>...</td>\n",
       "      <td>2420</td>\n",
       "      <td>2470</td>\n",
       "      <td>2520</td>\n",
       "      <td>2580</td>\n",
       "      <td>2640</td>\n",
       "      <td>2700</td>\n",
       "      <td>2760</td>\n",
       "      <td>2820</td>\n",
       "      <td>2880</td>\n",
       "      <td>2940</td>\n",
       "    </tr>\n",
       "  </tbody>\n",
       "</table>\n",
       "<p>1 rows × 242 columns</p>\n",
       "</div>"
      ],
      "text/plain": [
       "       country  1800  1801  1802  1803  1804  1805  1806  1807  1808  ...  \\\n",
       "0  Afghanistan   603   603   603   603   603   603   603   603   603  ...   \n",
       "\n",
       "   2031  2032  2033  2034  2035  2036  2037  2038  2039  2040  \n",
       "0  2420  2470  2520  2580  2640  2700  2760  2820  2880  2940  \n",
       "\n",
       "[1 rows x 242 columns]"
      ]
     },
     "execution_count": 241,
     "metadata": {},
     "output_type": "execute_result"
    }
   ],
   "source": [
    "gdp.head(1)"
   ]
  },
  {
   "cell_type": "code",
   "execution_count": 242,
   "metadata": {},
   "outputs": [
    {
     "data": {
      "text/html": [
       "<div>\n",
       "<style scoped>\n",
       "    .dataframe tbody tr th:only-of-type {\n",
       "        vertical-align: middle;\n",
       "    }\n",
       "\n",
       "    .dataframe tbody tr th {\n",
       "        vertical-align: top;\n",
       "    }\n",
       "\n",
       "    .dataframe thead th {\n",
       "        text-align: right;\n",
       "    }\n",
       "</style>\n",
       "<table border=\"1\" class=\"dataframe\">\n",
       "  <thead>\n",
       "    <tr style=\"text-align: right;\">\n",
       "      <th></th>\n",
       "      <th>country</th>\n",
       "      <th>1800</th>\n",
       "      <th>1801</th>\n",
       "      <th>1802</th>\n",
       "      <th>1803</th>\n",
       "      <th>1804</th>\n",
       "      <th>1805</th>\n",
       "      <th>1806</th>\n",
       "      <th>1807</th>\n",
       "      <th>1808</th>\n",
       "      <th>...</th>\n",
       "      <th>2009</th>\n",
       "      <th>2010</th>\n",
       "      <th>2011</th>\n",
       "      <th>2012</th>\n",
       "      <th>2013</th>\n",
       "      <th>2014</th>\n",
       "      <th>2015</th>\n",
       "      <th>2016</th>\n",
       "      <th>2017</th>\n",
       "      <th>2018</th>\n",
       "    </tr>\n",
       "  </thead>\n",
       "  <tbody>\n",
       "    <tr>\n",
       "      <th>0</th>\n",
       "      <td>Afghanistan</td>\n",
       "      <td>7.0</td>\n",
       "      <td>7.0</td>\n",
       "      <td>7.0</td>\n",
       "      <td>7.0</td>\n",
       "      <td>7.0</td>\n",
       "      <td>7.0</td>\n",
       "      <td>7.0</td>\n",
       "      <td>7.0</td>\n",
       "      <td>7.0</td>\n",
       "      <td>...</td>\n",
       "      <td>6.04</td>\n",
       "      <td>5.82</td>\n",
       "      <td>5.6</td>\n",
       "      <td>5.38</td>\n",
       "      <td>5.17</td>\n",
       "      <td>4.98</td>\n",
       "      <td>4.8</td>\n",
       "      <td>4.64</td>\n",
       "      <td>4.48</td>\n",
       "      <td>4.33</td>\n",
       "    </tr>\n",
       "  </tbody>\n",
       "</table>\n",
       "<p>1 rows × 220 columns</p>\n",
       "</div>"
      ],
      "text/plain": [
       "       country  1800  1801  1802  1803  1804  1805  1806  1807  1808  ...  \\\n",
       "0  Afghanistan   7.0   7.0   7.0   7.0   7.0   7.0   7.0   7.0   7.0  ...   \n",
       "\n",
       "   2009  2010  2011  2012  2013  2014  2015  2016  2017  2018  \n",
       "0  6.04  5.82   5.6  5.38  5.17  4.98   4.8  4.64  4.48  4.33  \n",
       "\n",
       "[1 rows x 220 columns]"
      ]
     },
     "execution_count": 242,
     "metadata": {},
     "output_type": "execute_result"
    }
   ],
   "source": [
    "cpw.head(1)"
   ]
  },
  {
   "cell_type": "markdown",
   "metadata": {},
   "source": [
    "#### Adjust columns\n",
    "The three dataframes neither match in row nor column count.\n",
    "In a first effort the columns of the gdp dataset are omitted, since they forecast into the future.\n",
    "\n",
    "The rowcount is depending on the countries represented in the dataframes. Before they are being aligned, all datasets are reduced to African-only countries. Maybe the missing countries are all non-African."
   ]
  },
  {
   "cell_type": "code",
   "execution_count": 243,
   "metadata": {},
   "outputs": [
    {
     "name": "stdout",
     "output_type": "stream",
     "text": [
      "True\n",
      "True\n"
     ]
    }
   ],
   "source": [
    "# Getting rid of the predictions in the GDP dataset and keeping only the years until 2018:\n",
    "gdp.drop(gdp.columns[list(np.arange(220,242))], axis=1, inplace = True)\n",
    "print(list(gdp.columns) == list(cpw.columns))\n",
    "print(list(cmr.columns) == list(cpw.columns))\n",
    "# Now all columns match"
   ]
  },
  {
   "cell_type": "markdown",
   "metadata": {},
   "source": [
    "#### Create African countries list\n",
    "Now that the columns are the same for all dataframes, the countries will be reduced to African countries only.\n",
    "The dataset with the African countries is inspected, and some country names are adjusted, since they do not match the names in the dataframe.\n",
    "\n",
    "Afterwards a list is created, which contains all the African countries."
   ]
  },
  {
   "cell_type": "code",
   "execution_count": 208,
   "metadata": {},
   "outputs": [
    {
     "data": {
      "text/html": [
       "<div>\n",
       "<style scoped>\n",
       "    .dataframe tbody tr th:only-of-type {\n",
       "        vertical-align: middle;\n",
       "    }\n",
       "\n",
       "    .dataframe tbody tr th {\n",
       "        vertical-align: top;\n",
       "    }\n",
       "\n",
       "    .dataframe thead th {\n",
       "        text-align: right;\n",
       "    }\n",
       "</style>\n",
       "<table border=\"1\" class=\"dataframe\">\n",
       "  <thead>\n",
       "    <tr style=\"text-align: right;\">\n",
       "      <th></th>\n",
       "      <th>Continent</th>\n",
       "      <th>Country</th>\n",
       "      <th>Column</th>\n",
       "      <th>Column2</th>\n",
       "      <th>Column3</th>\n",
       "      <th>Column4</th>\n",
       "      <th>Column5</th>\n",
       "      <th>Column6</th>\n",
       "      <th>Column7</th>\n",
       "      <th>Column8</th>\n",
       "      <th>Column9</th>\n",
       "    </tr>\n",
       "  </thead>\n",
       "  <tbody>\n",
       "    <tr>\n",
       "      <th>0</th>\n",
       "      <td>Africa</td>\n",
       "      <td>Algeria</td>\n",
       "      <td>NaN</td>\n",
       "      <td>NaN</td>\n",
       "      <td>NaN</td>\n",
       "      <td>NaN</td>\n",
       "      <td>NaN</td>\n",
       "      <td>NaN</td>\n",
       "      <td>NaN</td>\n",
       "      <td>NaN</td>\n",
       "      <td>NaN</td>\n",
       "    </tr>\n",
       "  </tbody>\n",
       "</table>\n",
       "</div>"
      ],
      "text/plain": [
       "  Continent  Country  Column  Column2  Column3  Column4  Column5  Column6  \\\n",
       "0    Africa  Algeria     NaN      NaN      NaN      NaN      NaN      NaN   \n",
       "\n",
       "   Column7  Column8  Column9  \n",
       "0      NaN      NaN      NaN  "
      ]
     },
     "execution_count": 208,
     "metadata": {},
     "output_type": "execute_result"
    }
   ],
   "source": [
    "c2c.head(1)"
   ]
  },
  {
   "cell_type": "code",
   "execution_count": 209,
   "metadata": {},
   "outputs": [
    {
     "data": {
      "text/plain": [
       "54"
      ]
     },
     "execution_count": 209,
     "metadata": {},
     "output_type": "execute_result"
    }
   ],
   "source": [
    "# Get a list of the African countries\n",
    "c2c.query('Continent == \"Africa\"', inplace = True)\n",
    "\n",
    "# Adjust country names so they are the same for all datasets\n",
    "old_names = [\"Burkina\",\n",
    "    \"Congo\",\n",
    "    \"Congo, Democratic Republic of\",\n",
    "    \"Ivory Coast\"]\n",
    "new_names = [\"Burkina Faso\",\n",
    "    \"Congo, Rep.\",\n",
    "    \"Congo, Dem. Rep.\",\n",
    "    \"Cote d'Ivoire\"]\n",
    "\n",
    "# Change the names\n",
    "for i, match in enumerate(old_names):  \n",
    "    c2c.loc[c2c[\"Country\"] == match] = new_names[i]\n",
    "    \n",
    "# Create a list of African countries\n",
    "african_countries = list(c2c.Country)\n",
    "len(set(african_countries))\n",
    "# The African country list seems to be complete"
   ]
  },
  {
   "cell_type": "markdown",
   "metadata": {},
   "source": [
    "#### Reduce dataframe rows\n",
    "Now each country in each dataframe is checked whether it is an African country. If not, the row is deleted."
   ]
  },
  {
   "cell_type": "code",
   "execution_count": 210,
   "metadata": {},
   "outputs": [
    {
     "data": {
      "text/plain": [
       "((54, 220), (54, 220), (54, 220))"
      ]
     },
     "execution_count": 210,
     "metadata": {},
     "output_type": "execute_result"
    }
   ],
   "source": [
    "# Matching all datasets against the list of African countries to reduce them to Africa\n",
    "for df in [gdp, cpw, cmr]:\n",
    "    for match in df.country:\n",
    "        if match not in african_countries:\n",
    "            # If the country is not in Africa the country is dropped\n",
    "            df.drop(df.index[df['country'] == match], inplace = True)\n",
    "# Check if the datasets have been successfully reduced to Africa\n",
    "cmr.shape, gdp.shape, cpw.shape        "
   ]
  },
  {
   "cell_type": "markdown",
   "metadata": {},
   "source": [
    "#### Check value types of the dataframes\n",
    "Now that all dataframes have the same shape and matching rows and columns the values are inspected.\n",
    "First it is checked wheather each cell has a value and in a second step if they are all floats (ints for the gdp dataset). "
   ]
  },
  {
   "cell_type": "code",
   "execution_count": 211,
   "metadata": {},
   "outputs": [
    {
     "data": {
      "text/plain": [
       "(0, 0, 0)"
      ]
     },
     "execution_count": 211,
     "metadata": {},
     "output_type": "execute_result"
    }
   ],
   "source": [
    "# Checking if any values are missing\n",
    "cpw.isnull().any(axis=1).sum(), gdp.isnull().any(axis=1).sum(), cmr.isnull().any(axis=1).sum()"
   ]
  },
  {
   "cell_type": "code",
   "execution_count": 212,
   "metadata": {},
   "outputs": [],
   "source": [
    "# Use the countryname as the index\n",
    "cpw.set_index('country', inplace = True)\n",
    "gdp.set_index('country', inplace = True)\n",
    "cmr.set_index('country', inplace = True)"
   ]
  },
  {
   "cell_type": "code",
   "execution_count": 225,
   "metadata": {},
   "outputs": [
    {
     "data": {
      "text/plain": [
       "(dtype('float64'), dtype('int64'), dtype('float64'))"
      ]
     },
     "execution_count": 225,
     "metadata": {},
     "output_type": "execute_result"
    }
   ],
   "source": [
    "# Check if all datatypes are correct\n",
    "cpw.dtypes.all(), gdp.dtypes.all(), cmr.dtypes.all()"
   ]
  },
  {
   "cell_type": "markdown",
   "metadata": {},
   "source": [
    "#### To make sure to have correct values each dataframe gets plotted\n",
    " - Children per woman: The max value of each year.\n",
    " - Child mortality rate: The max value of each year.\n",
    " - GDP: The max value for each year.\n",
    "\n",
    "All graphs look like they are in reasonable areas. There are some odd spikes in the child mortality dataset, but without getting to far into the exploration of the data, it makes sense that single events can have a big impact on the mortality rate in one year. If one country suffers a big catastrophe, it makes sense that the child mortality rate spikes. This is directly visible in the graph as the worst value for each year is plotted."
   ]
  },
  {
   "cell_type": "markdown",
   "metadata": {},
   "source": [
    "##### Max children per woman"
   ]
  },
  {
   "cell_type": "code",
   "execution_count": 269,
   "metadata": {},
   "outputs": [
    {
     "data": {
      "image/png": "[encoded data removed]",
      "text/plain": [
       "<Figure size 1440x360 with 1 Axes>"
      ]
     },
     "metadata": {
      "needs_background": "light"
     },
     "output_type": "display_data"
    }
   ],
   "source": [
    "max_values = cpw.describe().loc[\"max\"]\n",
    "pd.DataFrame(max_values).plot.line(rot= 90, figsize= (20,5));"
   ]
  },
  {
   "cell_type": "markdown",
   "metadata": {},
   "source": [
    "##### Max child mortality rate (0 to 5 year olds dying per 1000 born)"
   ]
  },
  {
   "cell_type": "code",
   "execution_count": 268,
   "metadata": {},
   "outputs": [
    {
     "data": {
      "image/png": "[encoded data removed]",
      "text/plain": [
       "<Figure size 1440x360 with 1 Axes>"
      ]
     },
     "metadata": {
      "needs_background": "light"
     },
     "output_type": "display_data"
    }
   ],
   "source": [
    "max_values = cmr.describe().loc[\"max\"]\n",
    "pd.DataFrame(max_values).plot.line(rot= 90, figsize= (20,5));"
   ]
  },
  {
   "cell_type": "markdown",
   "metadata": {},
   "source": [
    "##### Max GDP"
   ]
  },
  {
   "cell_type": "code",
   "execution_count": 274,
   "metadata": {},
   "outputs": [
    {
     "data": {
      "image/png": "[encoded data removed]",
      "text/plain": [
       "<Figure size 1440x360 with 1 Axes>"
      ]
     },
     "metadata": {
      "needs_background": "light"
     },
     "output_type": "display_data"
    }
   ],
   "source": [
    "max_values = gdp.describe().loc[\"max\"]\n",
    "pd.DataFrame(max_values).plot.line(rot= 90, figsize= (20,5));"
   ]
  },
  {
   "cell_type": "markdown",
   "metadata": {},
   "source": [
    "<a id='eda'></a>\n",
    "## Exploratory Data Analysis\n",
    "\n",
    "> **Tip**: Now that you've trimmed and cleaned your data, you're ready to move on to exploration. Compute statistics and create visualizations with the goal of addressing the research questions that you posed in the Introduction section. It is recommended that you be systematic with your approach. Look at one variable at a time, and then follow it up by looking at relationships between variables.\n",
    "\n",
    "### Research Question 1 (Replace this header name!)"
   ]
  },
  {
   "cell_type": "code",
   "execution_count": null,
   "metadata": {
    "collapsed": true
   },
   "outputs": [],
   "source": [
    "# Use this, and more code cells, to explore your data. Don't forget to add\n",
    "#   Markdown cells to document your observations and findings.\n"
   ]
  },
  {
   "cell_type": "markdown",
   "metadata": {},
   "source": [
    "### Research Question 2  (Replace this header name!)"
   ]
  },
  {
   "cell_type": "code",
   "execution_count": null,
   "metadata": {
    "collapsed": true
   },
   "outputs": [],
   "source": [
    "# Continue to explore the data to address your additional research\n",
    "#   questions. Add more headers as needed if you have more questions to\n",
    "#   investigate.\n"
   ]
  },
  {
   "cell_type": "markdown",
   "metadata": {},
   "source": [
    "<a id='conclusions'></a>\n",
    "## Conclusions\n",
    "\n",
    "> **Tip**: Finally, summarize your findings and the results that have been performed. Make sure that you are clear with regards to the limitations of your exploration. If you haven't done any statistical tests, do not imply any statistical conclusions. And make sure you avoid implying causation from correlation!\n",
    "\n",
    "> **Tip**: Once you are satisfied with your work, you should save a copy of the report in HTML or PDF form via the **File** > **Download as** submenu. Before exporting your report, check over it to make sure that the flow of the report is complete. You should probably remove all of the \"Tip\" quotes like this one so that the presentation is as tidy as possible. Congratulations!"
   ]
  },
  {
   "cell_type": "code",
   "execution_count": null,
   "metadata": {
    "collapsed": true
   },
   "outputs": [],
   "source": []
  }
 ],
 "metadata": {
  "kernelspec": {
   "display_name": "Python 3",
   "language": "python",
   "name": "python3"
  },
  "language_info": {
   "codemirror_mode": {
    "name": "ipython",
    "version": 3
   },
   "file_extension": ".py",
   "mimetype": "text/x-python",
   "name": "python",
   "nbconvert_exporter": "python",
   "pygments_lexer": "ipython3",
   "version": "3.7.6"
  }
 },
 "nbformat": 4,
 "nbformat_minor": 2
}
